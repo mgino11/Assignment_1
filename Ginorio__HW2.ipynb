{
  "nbformat": 4,
  "nbformat_minor": 0,
  "metadata": {
    "colab": {
      "name": " Ginorio _HW2",
      "provenance": [],
      "collapsed_sections": [],
      "mount_file_id": "1XJdYxn7P1dPoxLD6kkrdRBwNyuFwA3um",
      "authorship_tag": "ABX9TyP1rCvnEN9ZqvI5jo4Gr79S",
      "include_colab_link": true
    },
    "kernelspec": {
      "name": "python3",
      "display_name": "Python 3"
    }
  },
  "cells": [
    {
      "cell_type": "markdown",
      "metadata": {
        "id": "view-in-github",
        "colab_type": "text"
      },
      "source": [
        "<a href=\"https://colab.research.google.com/github/mgino11/Assignment_1/blob/main/Ginorio__HW2.ipynb\" target=\"_parent\"><img src=\"https://colab.research.google.com/assets/colab-badge.svg\" alt=\"Open In Colab\"/></a>"
      ]
    },
    {
      "cell_type": "markdown",
      "metadata": {
        "id": "-LFmXexalXSH"
      },
      "source": [
        "1.  Write a Python program to compute the  multiplication of any 2 matrices.  Return \"not possible\" if they cannot be multiplied."
      ]
    },
    {
      "cell_type": "code",
      "metadata": {
        "colab": {
          "base_uri": "https://localhost:8080/"
        },
        "id": "stS7u7jop5cq",
        "outputId": "7f958b33-7cf4-47bf-d33f-40a5b86e8a66"
      },
      "source": [
        "from numpy import *\r\n",
        "#matrix multiplication\r\n",
        "#RULE 1 - No. of columns in matrix1 = No. of rows in matrix2\r\n",
        "#     VARIABLES\r\n",
        "#     1 - Number of rows in Matrix1 (p)\r\n",
        "#     2 - Number of rows in Matrix2 | Number of Columns in Matrix1 (n)\r\n",
        "#     3 - Number of columns in Matrix2 (q)\r\n",
        "\r\n",
        "# WRITE PROGRAM\r\n",
        "\r\n",
        "p = int(input(\"enter Number of rows in matrix1 (p):\"))\r\n",
        "q = int(input(\"enter Number of columns in matrix2 (q):\"))\r\n",
        "n = int(input(\"enter Number of rows in matrix2 | Number of Columns in matrix1 (n):\"))\r\n",
        "\r\n",
        "# ENTER ELEMENTS FOR MATRICES\r\n",
        "#MATRIX 1\r\n",
        "\r\n",
        "print(\"enter elements for matrix1:\")\r\n",
        "matrix1 = [[int(input()) for i in range(n)] for j in range (p)]\r\n",
        "print(\"matrix1:\")\r\n",
        "for i in range(p):\r\n",
        "    for j in range(n):\r\n",
        "        print(format(matrix1[i][j], \"<9\"), end=\"\")\r\n",
        "    print()\r\n",
        "\r\n",
        "# MATRIX 2\r\n",
        "\r\n",
        "print(\"enter elements for matrix2:\")\r\n",
        "matrix2 = [[int(input()) for i in range(q)] for j in range (n)]\r\n",
        "print(\"matrix2:\")\r\n",
        "for i in range(n):\r\n",
        "    for j in range(q):\r\n",
        "        print(format(matrix2[i][j], \"<9\"), end=\"\")\r\n",
        "    print()\r\n",
        "\r\n",
        "# RESULT = result matrix = p*q (rows x columns)\r\n",
        "\r\n",
        "result = [[ 0 for i in range(q)] for j in range(p)]\r\n",
        "\r\n",
        "for i in range(p):\r\n",
        "    for j in range(q):\r\n",
        "        for k in range(n):\r\n",
        "            result[i][j] = result[i][j] + matrix1[i][k] * matrix2[k][j]\r\n",
        "\r\n",
        "\r\n",
        "print(\"result is:\")\r\n",
        "for i in range(p):\r\n",
        "  for j in range(q):\r\n",
        "      print(format(result[i][j], \"<9\"),end=\"\")\r\n",
        "  print()\r\n",
        "\r\n",
        "\r\n",
        "\r\n"
      ],
      "execution_count": null,
      "outputs": [
        {
          "output_type": "stream",
          "text": [
            "enter Number of rows in matrix1 (p):2\n",
            "enter Number of columns in matrix2 (q):2\n",
            "enter Number of rows in matrix2 | Number of Columns in matrix1 (n):3\n",
            "enter elements for matrix1:\n",
            "0\n",
            "3\n",
            "5\n",
            "5\n",
            "5\n",
            "2\n",
            "matrix1:\n",
            "0        3        5        \n",
            "5        5        2        \n",
            "enter elements for matrix2:\n",
            "3\n",
            "4\n",
            "3\n",
            "-2\n",
            "4\n",
            "-2\n",
            "matrix2:\n",
            "3        4        \n",
            "3        -2       \n",
            "4        -2       \n",
            "result is:\n",
            "29       -16      \n",
            "38       6        \n"
          ],
          "name": "stdout"
        }
      ]
    },
    {
      "cell_type": "markdown",
      "metadata": {
        "id": "VMsY6O0Mp65b"
      },
      "source": [
        "2.  Write a Python program to compute the inverse of a 2 x 2 matrix.  Return \"singular\" if it cannot be inverted."
      ]
    },
    {
      "cell_type": "code",
      "metadata": {
        "colab": {
          "base_uri": "https://localhost:8080/"
        },
        "id": "2M82skDoMPIW",
        "outputId": "4a9c4304-eb83-4900-ee1c-9ab1a021a3f1"
      },
      "source": [
        "import numpy as np\r\n",
        "# USE NUMPY + numpy.linalg.inverse()\r\n",
        "# ONLY SQUARE MATRIX CAN BE INVERSED\r\n",
        "# WRITE PROGRAM\r\n",
        "\r\n",
        "p = int(input(\"enter Number of rows (p):\"))\r\n",
        "q = int(input(\"enter Number of columns (q):\"))\r\n",
        "\r\n",
        "# ENTER ELEMENTS FOR MATRIX\r\n",
        "\r\n",
        "print(\"enter elements for matrix1:\")\r\n",
        "matrix1 = [[int(input()) for i in range(q)] for j in range (p)]\r\n",
        "print(\"matrix1:\")\r\n",
        "for i in range(p):\r\n",
        "    for j in range(q):\r\n",
        "        print(format(matrix1[i][j], \"<4\"), end=\"\")\r\n",
        "    print()\r\n",
        "\r\n",
        "    # RESULT = result matrix = p*q (rows x columns)\r\n",
        "\r\n",
        "result = [[ 0 for i in range(p)] for j in range(q)]\r\n",
        "print(\"This is the Inverse of  Matrix1\")\r\n",
        "\r\n",
        "matrix2 = np.linalg.inv(matrix1)\r\n",
        "\r\n",
        "print(matrix2)\r\n",
        "\r\n",
        "\r\n",
        "\r\n"
      ],
      "execution_count": null,
      "outputs": [
        {
          "output_type": "stream",
          "text": [
            "enter Number of rows (p):2\n",
            "enter Number of columns (q):2\n",
            "enter elements for matrix1:\n",
            "1\n",
            "2\n",
            "3\n",
            "4\n",
            "matrix1:\n",
            "1   2   \n",
            "3   4   \n",
            "This is the Inverse of  Matrix1\n",
            "[[-2.   1. ]\n",
            " [ 1.5 -0.5]]\n"
          ],
          "name": "stdout"
        }
      ]
    },
    {
      "cell_type": "markdown",
      "metadata": {
        "id": "GT672-bGqATd"
      },
      "source": [
        "3.  Write a Python program to compute the determinant of 3 x 3 matrix"
      ]
    },
    {
      "cell_type": "code",
      "metadata": {
        "colab": {
          "base_uri": "https://localhost:8080/"
        },
        "id": "TjoaxnYUqDPr",
        "outputId": "baeb6e87-1d69-42ec-ac0c-2486bfb2079d"
      },
      "source": [
        "# Determinant of 3x3\r\n",
        "# det(x) = |x|\r\n",
        "# det(x) = a(ei - fh) - b(di - fg) + c(dh - eg)\r\n",
        "\r\n",
        "p = int(input(\"enter Number of rows (p):\"))\r\n",
        "q = int(input(\"enter Number of columns (q):\"))\r\n",
        "\r\n",
        "# ENTER ELEMENTS FOR MATRIX\r\n",
        "\r\n",
        "print(\"enter elements for matrix1:\")\r\n",
        "matrix1 = [[int(input()) for i in range(q)] for j in range (p)]\r\n",
        "print(\"matrix1:\")\r\n",
        "for i in range(p):\r\n",
        "    for j in range(q):\r\n",
        "        print(format(matrix1[i][j], \"<9\"), end=\"\")\r\n",
        "    print()\r\n",
        "\r\n",
        "    # RESULT = result matrix = p*q (rows x columns)\r\n",
        "\r\n",
        "result = [[ 0 for i in range(p)] for j in range(q)]\r\n",
        "print(\"Determinant of 3 x 3 Matrix \")\r\n",
        "\r\n",
        "matrix2 = np.linalg.det(matrix1)\r\n",
        "\r\n",
        "print(matrix2)"
      ],
      "execution_count": null,
      "outputs": [
        {
          "output_type": "stream",
          "text": [
            "enter Number of rows (p):3\n",
            "enter Number of columns (q):3\n",
            "enter elements for matrix1:\n",
            "1\n",
            "2\n",
            "2\n",
            "3\n",
            "4\n",
            "5\n",
            "6\n",
            "9\n",
            "8\n",
            "matrix1:\n",
            "1        2        2        \n",
            "3        4        5        \n",
            "6        9        8        \n",
            "Determinant of 3 x 3 Matrix \n",
            "4.999999999999999\n"
          ],
          "name": "stdout"
        }
      ]
    },
    {
      "cell_type": "code",
      "metadata": {
        "colab": {
          "base_uri": "https://localhost:8080/"
        },
        "id": "6s_5bJmNdQD_",
        "outputId": "b8c4681b-b654-4456-8628-007403196365"
      },
      "source": [
        " %%shell\r\n",
        "jupyter nbconvert --to html /content/Ginorio__HW2.ipynb"
      ],
      "execution_count": null,
      "outputs": [
        {
          "output_type": "stream",
          "text": [
            "UsageError: Cell magic `%%` not found.\n"
          ],
          "name": "stderr"
        }
      ]
    }
  ]
}