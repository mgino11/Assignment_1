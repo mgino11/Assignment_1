{
  "nbformat": 4,
  "nbformat_minor": 0,
  "metadata": {
    "colab": {
      "name": " Ginorio _HW2",
      "provenance": [],
      "collapsed_sections": [],
      "authorship_tag": "ABX9TyMjnpiseRVczrbPcbCHQ6Og",
      "include_colab_link": true
    },
    "kernelspec": {
      "name": "python3",
      "display_name": "Python 3"
    }
  },
  "cells": [
    {
      "cell_type": "markdown",
      "metadata": {
        "id": "view-in-github",
        "colab_type": "text"
      },
      "source": [
        "<a href=\"https://colab.research.google.com/github/mgino11/Assignment_1/blob/main/Ginorio__HW2.ipynb\" target=\"_parent\"><img src=\"https://colab.research.google.com/assets/colab-badge.svg\" alt=\"Open In Colab\"/></a>"
      ]
    },
    {
      "cell_type": "markdown",
      "metadata": {
        "id": "-LFmXexalXSH"
      },
      "source": [
        "1.  Write a Python program to compute the  multiplication of any 2 matrices.  Return \"not possible\" if they cannot be multiplied."
      ]
    },
    {
      "cell_type": "code",
      "metadata": {
        "colab": {
          "base_uri": "https://localhost:8080/"
        },
        "id": "stS7u7jop5cq",
        "outputId": "7f958b33-7cf4-47bf-d33f-40a5b86e8a66"
      },
      "source": [
        "from numpy import *\r\n",
        "#matrix multiplication\r\n",
        "#RULE 1 - No. of columns in matrix1 = No. of rows in matrix2\r\n",
        "#     VARIABLES\r\n",
        "#     1 - Number of rows in Matrix1 (p)\r\n",
        "#     2 - Number of rows in Matrix2 | Number of Columns in Matrix1 (n)\r\n",
        "#     3 - Number of columns in Matrix2 (q)\r\n",
        "\r\n",
        "# WRITE PROGRAM\r\n",
        "\r\n",
        "p = int(input(\"enter Number of rows in matrix1 (p):\"))\r\n",
        "q = int(input(\"enter Number of columns in matrix2 (q):\"))\r\n",
        "n = int(input(\"enter Number of rows in matrix2 | Number of Columns in matrix1 (n):\"))\r\n",
        "\r\n",
        "# ENTER ELEMENTS FOR MATRICES\r\n",
        "#MATRIX 1\r\n",
        "\r\n",
        "print(\"enter elements for matrix1:\")\r\n",
        "matrix1 = [[int(input()) for i in range(n)] for j in range (p)]\r\n",
        "print(\"matrix1:\")\r\n",
        "for i in range(p):\r\n",
        "    for j in range(n):\r\n",
        "        print(format(matrix1[i][j], \"<9\"), end=\"\")\r\n",
        "    print()\r\n",
        "\r\n",
        "# MATRIX 2\r\n",
        "\r\n",
        "print(\"enter elements for matrix2:\")\r\n",
        "matrix2 = [[int(input()) for i in range(q)] for j in range (n)]\r\n",
        "print(\"matrix2:\")\r\n",
        "for i in range(n):\r\n",
        "    for j in range(q):\r\n",
        "        print(format(matrix2[i][j], \"<9\"), end=\"\")\r\n",
        "    print()\r\n",
        "\r\n",
        "# RESULT = result matrix = p*q (rows x columns)\r\n",
        "\r\n",
        "result = [[ 0 for i in range(q)] for j in range(p)]\r\n",
        "\r\n",
        "for i in range(p):\r\n",
        "    for j in range(q):\r\n",
        "        for k in range(n):\r\n",
        "            result[i][j] = result[i][j] + matrix1[i][k] * matrix2[k][j]\r\n",
        "\r\n",
        "\r\n",
        "print(\"result is:\")\r\n",
        "for i in range(p):\r\n",
        "  for j in range(q):\r\n",
        "      print(format(result[i][j], \"<9\"),end=\"\")\r\n",
        "  print()\r\n",
        "\r\n",
        "\r\n",
        "\r\n"
      ],
      "execution_count": null,
      "outputs": [
        {
          "output_type": "stream",
          "text": [
            "enter Number of rows in matrix1 (p):2\n",
            "enter Number of columns in matrix2 (q):2\n",
            "enter Number of rows in matrix2 | Number of Columns in matrix1 (n):3\n",
            "enter elements for matrix1:\n",
            "0\n",
            "3\n",
            "5\n",
            "5\n",
            "5\n",
            "2\n",
            "matrix1:\n",
            "0        3        5        \n",
            "5        5        2        \n",
            "enter elements for matrix2:\n",
            "3\n",
            "4\n",
            "3\n",
            "-2\n",
            "4\n",
            "-2\n",
            "matrix2:\n",
            "3        4        \n",
            "3        -2       \n",
            "4        -2       \n",
            "result is:\n",
            "29       -16      \n",
            "38       6        \n"
          ],
          "name": "stdout"
        }
      ]
    },
    {
      "cell_type": "markdown",
      "metadata": {
        "id": "VMsY6O0Mp65b"
      },
      "source": [
        "2.  Write a Python program to compute the inverse of a 2 x 2 matrix.  Return \"singular\" if it cannot be inverted."
      ]
    },
    {
      "cell_type": "code",
      "metadata": {
        "colab": {
          "base_uri": "https://localhost:8080/"
        },
        "id": "2M82skDoMPIW",
        "outputId": "4a9c4304-eb83-4900-ee1c-9ab1a021a3f1"
      },
      "source": [
        "import numpy as np\r\n",
        "# USE NUMPY + numpy.linalg.inverse()\r\n",
        "# ONLY SQUARE MATRIX CAN BE INVERSED\r\n",
        "# WRITE PROGRAM\r\n",
        "\r\n",
        "p = int(input(\"enter Number of rows (p):\"))\r\n",
        "q = int(input(\"enter Number of columns (q):\"))\r\n",
        "\r\n",
        "# ENTER ELEMENTS FOR MATRIX\r\n",
        "\r\n",
        "print(\"enter elements for matrix1:\")\r\n",
        "matrix1 = [[int(input()) for i in range(q)] for j in range (p)]\r\n",
        "print(\"matrix1:\")\r\n",
        "for i in range(p):\r\n",
        "    for j in range(q):\r\n",
        "        print(format(matrix1[i][j], \"<4\"), end=\"\")\r\n",
        "    print()\r\n",
        "\r\n",
        "    # RESULT = result matrix = p*q (rows x columns)\r\n",
        "\r\n",
        "result = [[ 0 for i in range(p)] for j in range(q)]\r\n",
        "print(\"This is the Inverse of  Matrix1\")\r\n",
        "\r\n",
        "matrix2 = np.linalg.inv(matrix1)\r\n",
        "\r\n",
        "print(matrix2)\r\n",
        "\r\n",
        "\r\n",
        "\r\n"
      ],
      "execution_count": null,
      "outputs": [
        {
          "output_type": "stream",
          "text": [
            "enter Number of rows (p):2\n",
            "enter Number of columns (q):2\n",
            "enter elements for matrix1:\n",
            "1\n",
            "2\n",
            "3\n",
            "4\n",
            "matrix1:\n",
            "1   2   \n",
            "3   4   \n",
            "This is the Inverse of  Matrix1\n",
            "[[-2.   1. ]\n",
            " [ 1.5 -0.5]]\n"
          ],
          "name": "stdout"
        }
      ]
    },
    {
      "cell_type": "markdown",
      "metadata": {
        "id": "GT672-bGqATd"
      },
      "source": [
        "3.  Write a Python program to compute the determinant of 3 x 3 matrix"
      ]
    },
    {
      "cell_type": "code",
      "metadata": {
        "colab": {
          "base_uri": "https://localhost:8080/"
        },
        "id": "TjoaxnYUqDPr",
        "outputId": "baeb6e87-1d69-42ec-ac0c-2486bfb2079d"
      },
      "source": [
        "# Determinant of 3x3\r\n",
        "# det(x) = |x|\r\n",
        "# det(x) = a(ei - fh) - b(di - fg) + c(dh - eg)\r\n",
        "\r\n",
        "p = int(input(\"enter Number of rows (p):\"))\r\n",
        "q = int(input(\"enter Number of columns (q):\"))\r\n",
        "\r\n",
        "# ENTER ELEMENTS FOR MATRIX\r\n",
        "\r\n",
        "print(\"enter elements for matrix1:\")\r\n",
        "matrix1 = [[int(input()) for i in range(q)] for j in range (p)]\r\n",
        "print(\"matrix1:\")\r\n",
        "for i in range(p):\r\n",
        "    for j in range(q):\r\n",
        "        print(format(matrix1[i][j], \"<9\"), end=\"\")\r\n",
        "    print()\r\n",
        "\r\n",
        "    # RESULT = result matrix = p*q (rows x columns)\r\n",
        "\r\n",
        "result = [[ 0 for i in range(p)] for j in range(q)]\r\n",
        "print(\"Determinant of 3 x 3 Matrix \")\r\n",
        "\r\n",
        "matrix2 = np.linalg.det(matrix1)\r\n",
        "\r\n",
        "print(matrix2)"
      ],
      "execution_count": null,
      "outputs": [
        {
          "output_type": "stream",
          "text": [
            "enter Number of rows (p):3\n",
            "enter Number of columns (q):3\n",
            "enter elements for matrix1:\n",
            "1\n",
            "2\n",
            "2\n",
            "3\n",
            "4\n",
            "5\n",
            "6\n",
            "9\n",
            "8\n",
            "matrix1:\n",
            "1        2        2        \n",
            "3        4        5        \n",
            "6        9        8        \n",
            "Determinant of 3 x 3 Matrix \n",
            "4.999999999999999\n"
          ],
          "name": "stdout"
        }
      ]
    },
    {
      "cell_type": "code",
      "metadata": {
        "colab": {
          "base_uri": "https://localhost:8080/"
        },
        "id": "6s_5bJmNdQD_",
        "outputId": "caec5f56-22c4-4e51-e74f-cde503798714"
      },
      "source": [
        "!jupyter nbconvert --to html  Ginorio _HW2.ipynb"
      ],
      "execution_count": null,
      "outputs": [
        {
          "output_type": "stream",
          "text": [
            "[NbConvertApp] WARNING | pattern u'Ginorio' matched no files\n",
            "[NbConvertApp] WARNING | pattern u'_HW2.ipynb' matched no files\n",
            "This application is used to convert notebook files (*.ipynb) to various other\n",
            "formats.\n",
            "\n",
            "WARNING: THE COMMANDLINE INTERFACE MAY CHANGE IN FUTURE RELEASES.\n",
            "\n",
            "Options\n",
            "-------\n",
            "\n",
            "Arguments that take values are actually convenience aliases to full\n",
            "Configurables, whose aliases are listed on the help line. For more information\n",
            "on full configurables, see '--help-all'.\n",
            "\n",
            "--execute\n",
            "    Execute the notebook prior to export.\n",
            "--allow-errors\n",
            "    Continue notebook execution even if one of the cells throws an error and include the error message in the cell output (the default behaviour is to abort conversion). This flag is only relevant if '--execute' was specified, too.\n",
            "--no-input\n",
            "    Exclude input cells and output prompts from converted document. \n",
            "    This mode is ideal for generating code-free reports.\n",
            "--stdout\n",
            "    Write notebook output to stdout instead of files.\n",
            "--stdin\n",
            "    read a single notebook file from stdin. Write the resulting notebook with default basename 'notebook.*'\n",
            "--inplace\n",
            "    Run nbconvert in place, overwriting the existing notebook (only \n",
            "    relevant when converting to notebook format)\n",
            "-y\n",
            "    Answer yes to any questions instead of prompting.\n",
            "--clear-output\n",
            "    Clear output of current file and save in place, \n",
            "    overwriting the existing notebook.\n",
            "--debug\n",
            "    set log level to logging.DEBUG (maximize logging output)\n",
            "--no-prompt\n",
            "    Exclude input and output prompts from converted document.\n",
            "--generate-config\n",
            "    generate default config file\n",
            "--nbformat=<Enum> (NotebookExporter.nbformat_version)\n",
            "    Default: 4\n",
            "    Choices: [1, 2, 3, 4]\n",
            "    The nbformat version to write. Use this to downgrade notebooks.\n",
            "--output-dir=<Unicode> (FilesWriter.build_directory)\n",
            "    Default: ''\n",
            "    Directory to write output(s) to. Defaults to output to the directory of each\n",
            "    notebook. To recover previous default behaviour (outputting to the current\n",
            "    working directory) use . as the flag value.\n",
            "--writer=<DottedObjectName> (NbConvertApp.writer_class)\n",
            "    Default: 'FilesWriter'\n",
            "    Writer class used to write the  results of the conversion\n",
            "--log-level=<Enum> (Application.log_level)\n",
            "    Default: 30\n",
            "    Choices: (0, 10, 20, 30, 40, 50, 'DEBUG', 'INFO', 'WARN', 'ERROR', 'CRITICAL')\n",
            "    Set the log level by value or name.\n",
            "--reveal-prefix=<Unicode> (SlidesExporter.reveal_url_prefix)\n",
            "    Default: u''\n",
            "    The URL prefix for reveal.js (version 3.x). This defaults to the reveal CDN,\n",
            "    but can be any url pointing to a copy  of reveal.js.\n",
            "    For speaker notes to work, this must be a relative path to a local  copy of\n",
            "    reveal.js: e.g., \"reveal.js\".\n",
            "    If a relative path is given, it must be a subdirectory of the current\n",
            "    directory (from which the server is run).\n",
            "    See the usage documentation\n",
            "    (https://nbconvert.readthedocs.io/en/latest/usage.html#reveal-js-html-\n",
            "    slideshow) for more details.\n",
            "--to=<Unicode> (NbConvertApp.export_format)\n",
            "    Default: 'html'\n",
            "    The export format to be used, either one of the built-in formats\n",
            "    ['asciidoc', 'custom', 'html', 'latex', 'markdown', 'notebook', 'pdf',\n",
            "    'python', 'rst', 'script', 'slides'] or a dotted object name that represents\n",
            "    the import path for an `Exporter` class\n",
            "--template=<Unicode> (TemplateExporter.template_file)\n",
            "    Default: u''\n",
            "    Name of the template file to use\n",
            "--output=<Unicode> (NbConvertApp.output_base)\n",
            "    Default: ''\n",
            "    overwrite base name use for output files. can only be used when converting\n",
            "    one notebook at a time.\n",
            "--post=<DottedOrNone> (NbConvertApp.postprocessor_class)\n",
            "    Default: u''\n",
            "    PostProcessor class used to write the results of the conversion\n",
            "--config=<Unicode> (JupyterApp.config_file)\n",
            "    Default: u''\n",
            "    Full path of a config file.\n",
            "\n",
            "To see all available configurables, use `--help-all`\n",
            "\n",
            "Examples\n",
            "--------\n",
            "\n",
            "    The simplest way to use nbconvert is\n",
            "    \n",
            "    > jupyter nbconvert mynotebook.ipynb\n",
            "    \n",
            "    which will convert mynotebook.ipynb to the default format (probably HTML).\n",
            "    \n",
            "    You can specify the export format with `--to`.\n",
            "    Options include ['asciidoc', 'custom', 'html', 'latex', 'markdown', 'notebook', 'pdf', 'python', 'rst', 'script', 'slides'].\n",
            "    \n",
            "    > jupyter nbconvert --to latex mynotebook.ipynb\n",
            "    \n",
            "    Both HTML and LaTeX support multiple output templates. LaTeX includes\n",
            "    'base', 'article' and 'report'.  HTML includes 'basic' and 'full'. You\n",
            "    can specify the flavor of the format used.\n",
            "    \n",
            "    > jupyter nbconvert --to html --template basic mynotebook.ipynb\n",
            "    \n",
            "    You can also pipe the output to stdout, rather than a file\n",
            "    \n",
            "    > jupyter nbconvert mynotebook.ipynb --stdout\n",
            "    \n",
            "    PDF is generated via latex\n",
            "    \n",
            "    > jupyter nbconvert mynotebook.ipynb --to pdf\n",
            "    \n",
            "    You can get (and serve) a Reveal.js-powered slideshow\n",
            "    \n",
            "    > jupyter nbconvert myslides.ipynb --to slides --post serve\n",
            "    \n",
            "    Multiple notebooks can be given at the command line in a couple of \n",
            "    different ways:\n",
            "    \n",
            "    > jupyter nbconvert notebook*.ipynb\n",
            "    > jupyter nbconvert notebook1.ipynb notebook2.ipynb\n",
            "    \n",
            "    or you can specify the notebooks list in a config file, containing::\n",
            "    \n",
            "        c.NbConvertApp.notebooks = [\"my_notebook.ipynb\"]\n",
            "    \n",
            "    > jupyter nbconvert --config mycfg.py\n",
            "\n"
          ],
          "name": "stdout"
        }
      ]
    }
  ]
}