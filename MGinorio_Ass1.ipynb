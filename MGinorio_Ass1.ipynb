{
  "nbformat": 4,
  "nbformat_minor": 0,
  "metadata": {
    "colab": {
      "name": "MGinorio_Ass1",
      "provenance": [],
      "collapsed_sections": [],
      "authorship_tag": "ABX9TyM1/4UOSddc84RNbVo9Q7Vw",
      "include_colab_link": true
    },
    "kernelspec": {
      "name": "python3",
      "display_name": "Python 3"
    }
  },
  "cells": [
    {
      "cell_type": "markdown",
      "metadata": {
        "id": "view-in-github",
        "colab_type": "text"
      },
      "source": [
        "<a href=\"https://colab.research.google.com/github/mgino11/Assignment_1/blob/main/MGinorio_Ass1.ipynb\" target=\"_parent\"><img src=\"https://colab.research.google.com/assets/colab-badge.svg\" alt=\"Open In Colab\"/></a>"
      ]
    },
    {
      "cell_type": "markdown",
      "metadata": {
        "id": "3r_Qny8m_BLk"
      },
      "source": [
        "MATH HOMEWORK #1\r\n",
        "\r\n",
        "Chapter 1.  Programming Challenge 1 page 22, Even-Odd Vending Machine\r\n",
        "1. Print whether the number is even or odd.\r\n",
        "2. Display the number followed by the next 9 even or odd numbers.\r\n",
        "If the input is 2, the program should print even and then print 2, 4, 6, 8, 10,\r\n",
        " 12, 14, 16, 18, 20. Similarly, if the input is 1, the program should print odd\r\n",
        "and then print 1, 3, 5, 7, 9, 11, 13, 15, 17, 19. Your program should use the\r\n",
        "is_integer() method to display an error message if the input is a number with\r\n",
        "significant digits beyond the decimal point."
      ]
    },
    {
      "cell_type": "code",
      "metadata": {
        "colab": {
          "base_uri": "https://localhost:8080/"
        },
        "id": "LcXzWwRES7hx",
        "outputId": "fa02ddd3-3656-41ab-b0d8-eecb23019b94"
      },
      "source": [
        "def even_odd(n):\r\n",
        "    if n % 2 == 0:\r\n",
        "        print(\"even\")\r\n",
        "    else:\r\n",
        "        print(\"odd\")\r\n",
        "    for i in range(n, n + 20, 2):\r\n",
        "        print(i)\r\n",
        "  \r\n",
        "if __name__ == '__main__':\r\n",
        "  n = input('Enter your number:')\r\n",
        "  n = float(n)\r\n",
        "\r\n",
        "  if n > 0 and n.is_integer():\r\n",
        "    factors(int(n))\r\n",
        "  else:\r\n",
        "    print('please enter positive integer')\r\n"
      ],
      "execution_count": 51,
      "outputs": [
        {
          "output_type": "stream",
          "text": [
            "Enter your number:2\n",
            "0\n",
            "2\n",
            "4\n",
            "6\n",
            "8\n",
            "10\n",
            "12\n",
            "14\n",
            "16\n",
            "18\n"
          ],
          "name": "stdout"
        }
      ]
    },
    {
      "cell_type": "markdown",
      "metadata": {
        "id": "VURjJlA7fKaI"
      },
      "source": [
        "Chapter 2.  Programming Challenge 2 page 55, Exploring a Quadratic Function Visually\r\n",
        "\r\n",
        "Your programming challenge is to enhance this program to create a graph of the\r\n",
        "function. Try using at least 10 values for x instead of the 6 above. Calculate\r\n",
        "the corresponding y values using the function and then create a graph using\r\n",
        "these two sets of values.\r\n"
      ]
    },
    {
      "cell_type": "code",
      "metadata": {
        "colab": {
          "base_uri": "https://localhost:8080/",
          "height": 265
        },
        "id": "NyCllUppRDwk",
        "outputId": "83aa6912-dfd8-4fda-c571-4c5ea6751a04"
      },
      "source": [
        "x_numbers = [1,2,3]\r\n",
        "y_numbers = [2,4,6]\r\n",
        "from pylab import plot, show\r\n",
        "plot (x_numbers, y_numbers)\r\n",
        "show()"
      ],
      "execution_count": 52,
      "outputs": [
        {
          "output_type": "display_data",
          "data": {
            "image/png": "[encoded data removed]",
            "text/plain": [
              "<Figure size 432x288 with 1 Axes>"
            ]
          },
          "metadata": {
            "tags": [],
            "needs_background": "light"
          }
        }
      ]
    },
    {
      "cell_type": "code",
      "metadata": {
        "colab": {
          "base_uri": "https://localhost:8080/",
          "height": 295
        },
        "id": "J9P-N7FiD63Z",
        "outputId": "99cf8c7f-1e9f-4ac8-f589-3d107f7d07a4"
      },
      "source": [
        "import matplotlib.pyplot as plt\r\n",
        "\r\n",
        "def quad_func_calc():\r\n",
        "  x_values = [-1,1,2,3,4,5,6,7,8,9,10]\r\n",
        "  y_values = []\r\n",
        "  for x in x_values:\r\n",
        "      y_values.append(x**2 + x * 2 + 1 )\r\n",
        "  draw_graph(x_values,y_values)\r\n",
        "\r\n",
        "\r\n",
        "def draw_graph(x,y):\r\n",
        "  plt.plot(x,y)\r\n",
        "  plt.xlabel('x-coordinate')\r\n",
        "  plt.ylabel('y-coordinate')\r\n",
        "  plt.title('Quadratic Function')\r\n",
        "\r\n",
        "if __name__ == '__main__':\r\n",
        "  quad_func_calc()"
      ],
      "execution_count": 66,
      "outputs": [
        {
          "output_type": "display_data",
          "data": {
            "image/png": "[encoded data removed]",
            "text/plain": [
              "<Figure size 432x288 with 1 Axes>"
            ]
          },
          "metadata": {
            "tags": [],
            "needs_background": "light"
          }
        }
      ]
    },
    {
      "cell_type": "markdown",
      "metadata": {
        "id": "zYGk6z38GHVc"
      },
      "source": [
        "Chapter 3 Problem #2: Statistics Calculator\r\n",
        "Implement a statistics calulator that takes a list of numbers in the file\r\n",
        "mydata.txt and then calculates and prints the mean, median, mode, variance, and\r\n",
        "standard deviation using the functions we wrote earlier in this chapter."
      ]
    },
    {
      "cell_type": "code",
      "metadata": {
        "id": "UGzodTZ6XQJN"
      },
      "source": [
        "\r\n",
        "def calculate_mean(number_list):\r\n",
        "    s = sum(number_list)\r\n",
        "    N = len(number_list)\r\n",
        "    mean = s / N\r\n",
        "\r\n",
        "    return mean\r\n",
        "  \r\n",
        "if __name__ == 'main':\r\n",
        "  number_list = [100,60,70,900,100,200,500,500,503,600,1000,1200]\r\n",
        "  mean = calculate_mean(number_list)\r\n",
        "  N = len(number_list)\r\n",
        "  print('Donation')"
      ],
      "execution_count": 105,
      "outputs": []
    },
    {
      "cell_type": "code",
      "metadata": {
        "id": "izynEX1WaN8b"
      },
      "source": [
        ""
      ],
      "execution_count": null,
      "outputs": []
    }
  ]
}