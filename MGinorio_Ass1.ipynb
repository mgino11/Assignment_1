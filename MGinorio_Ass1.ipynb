{
  "nbformat": 4,
  "nbformat_minor": 0,
  "metadata": {
    "colab": {
      "name": "MGinorio_Ass1",
      "provenance": [],
      "authorship_tag": "ABX9TyMHyE95aod8fnZ/uzBObHQH",
      "include_colab_link": true
    },
    "kernelspec": {
      "name": "python3",
      "display_name": "Python 3"
    }
  },
  "cells": [
    {
      "cell_type": "markdown",
      "metadata": {
        "id": "view-in-github",
        "colab_type": "text"
      },
      "source": [
        "<a href=\"https://colab.research.google.com/github/mgino11/Assignment_1/blob/main/MGinorio_Ass1.ipynb\" target=\"_parent\"><img src=\"https://colab.research.google.com/assets/colab-badge.svg\" alt=\"Open In Colab\"/></a>"
      ]
    },
    {
      "cell_type": "code",
      "metadata": {
        "id": "8JFiykRY-Vqh"
      },
      "source": [
        ""
      ],
      "execution_count": null,
      "outputs": []
    },
    {
      "cell_type": "markdown",
      "metadata": {
        "id": "3r_Qny8m_BLk"
      },
      "source": [
        "In Doing Math with Python, complete the following using Colab in Python.  Save your results as a single .html file and upload.\r\n",
        "\r\n",
        "Chapter 1.  Programming Challenge 1 page 22, Even-Odd Vending Machine"
      ]
    },
    {
      "cell_type": "code",
      "metadata": {
        "id": "yeYRA2oJ_JgP"
      },
      "source": [
        ""
      ],
      "execution_count": null,
      "outputs": []
    }
  ]
}