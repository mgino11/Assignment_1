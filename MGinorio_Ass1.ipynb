{
  "nbformat": 4,
  "nbformat_minor": 0,
  "metadata": {
    "colab": {
      "name": "MGinorio_Ass1",
      "provenance": [],
      "collapsed_sections": [],
      "toc_visible": true,
      "authorship_tag": "ABX9TyMSQDz3DnefitrQ11VWzJ/I",
      "include_colab_link": true
    },
    "kernelspec": {
      "name": "python3",
      "display_name": "Python 3"
    }
  },
  "cells": [
    {
      "cell_type": "markdown",
      "metadata": {
        "id": "view-in-github",
        "colab_type": "text"
      },
      "source": [
        "<a href=\"https://colab.research.google.com/github/mgino11/Assignment_1/blob/main/MGinorio_Ass1.ipynb\" target=\"_parent\"><img src=\"https://colab.research.google.com/assets/colab-badge.svg\" alt=\"Open In Colab\"/></a>"
      ]
    },
    {
      "cell_type": "markdown",
      "metadata": {
        "id": "3r_Qny8m_BLk"
      },
      "source": [
        "MATH HOMEWORK #1\r\n",
        "\r\n",
        "Chapter 1.  Programming Challenge 1 page 22, Even-Odd Vending Machine\r\n",
        "1. Print whether the number is even or odd.\r\n",
        "2. Display the number followed by the next 9 even or odd numbers.\r\n",
        "If the input is 2, the program should print even and then print 2, 4, 6, 8, 10,\r\n",
        " 12, 14, 16, 18, 20. Similarly, if the input is 1, the program should print odd\r\n",
        "and then print 1, 3, 5, 7, 9, 11, 13, 15, 17, 19. Your program should use the\r\n",
        "is_integer() method to display an error message if the input is a number with\r\n",
        "significant digits beyond the decimal point."
      ]
    },
    {
      "cell_type": "code",
      "metadata": {
        "id": "LcXzWwRES7hx"
      },
      "source": [
        "def even_odd(n):\r\n",
        "    if n % 2 == 0:\r\n",
        "        print(\"even\")\r\n",
        "    else:\r\n",
        "        print(\"odd\")\r\n",
        "    for i in range(n, n + 20, 2):\r\n",
        "        print(i)\r\n",
        "  \r\n",
        "if __name__ == '__main__':\r\n",
        "  n = input('Enter your number:')\r\n",
        "  n = float(n)\r\n",
        "\r\n",
        "  if n > 0 and n.is_integer():\r\n",
        "    factors(int(n))\r\n",
        "  else:\r\n",
        "    print('please enter positive integer')\r\n"
      ],
      "execution_count": null,
      "outputs": []
    },
    {
      "cell_type": "markdown",
      "metadata": {
        "id": "VURjJlA7fKaI"
      },
      "source": [
        "Chapter 2.  Programming Challenge 2 page 55, Exploring a Quadratic Function Visually\r\n",
        "\r\n",
        "Your programming challenge is to enhance this program to create a graph of the\r\n",
        "function. Try using at least 10 values for x instead of the 6 above. Calculate\r\n",
        "the corresponding y values using the function and then create a graph using\r\n",
        "these two sets of values.\r\n"
      ]
    },
    {
      "cell_type": "code",
      "metadata": {
        "id": "NyCllUppRDwk"
      },
      "source": [
        "x_numbers = [1,2,3]\r\n",
        "y_numbers = [2,4,6]\r\n",
        "from pylab import plot, show\r\n",
        "plot (x_numbers, y_numbers)\r\n",
        "show()"
      ],
      "execution_count": null,
      "outputs": []
    },
    {
      "cell_type": "code",
      "metadata": {
        "id": "J9P-N7FiD63Z"
      },
      "source": [
        "import matplotlib.pyplot as plt\r\n",
        "\r\n",
        "def quad_func_calc():\r\n",
        "  x_values = [-1,1,2,3,4,5,6,7,8,9,10]\r\n",
        "  y_values = []\r\n",
        "  for x in x_values:\r\n",
        "      y_values.append(x**2 + x * 2 + 1 )\r\n",
        "  draw_graph(x_values,y_values)\r\n",
        "\r\n",
        "\r\n",
        "def draw_graph(x,y):\r\n",
        "  plt.plot(x,y)\r\n",
        "  plt.xlabel('x-coordinate')\r\n",
        "  plt.ylabel('y-coordinate')\r\n",
        "  plt.title('Quadratic Function')\r\n",
        "\r\n",
        "if __name__ == '__main__':\r\n",
        "  quad_func_calc()"
      ],
      "execution_count": null,
      "outputs": []
    },
    {
      "cell_type": "markdown",
      "metadata": {
        "id": "zYGk6z38GHVc"
      },
      "source": [
        "Chapter 3 Problem #2: Statistics Calculator\r\n",
        "Implement a statistics calulator that takes a list of numbers in the file\r\n",
        "mydata.txt and then calculates and prints the mean, median, mode, variance, and\r\n",
        "standard deviation using the functions we wrote earlier in this chapter."
      ]
    },
    {
      "cell_type": "code",
      "metadata": {
        "id": "UGzodTZ6XQJN",
        "colab": {
          "base_uri": "https://localhost:8080/"
        },
        "outputId": "10fb9b5b-cde0-4daf-d5da-992ff1ea0eff"
      },
      "source": [
        "\r\n",
        "from collections import Counter\r\n",
        "\r\n",
        "def read_data():\r\n",
        "    info_file = open(\"/content/mydata_ginorio.txt\", \"r\")\r\n",
        "    numbers = []\r\n",
        "    for number in info_file:\r\n",
        "        numbers.append(float(number))\r\n",
        "    return numbers\r\n",
        "  \r\n",
        "\r\n",
        "# Find the Mean\r\n",
        "def calculate_mean(numbers):\r\n",
        "    s = sum(numbers)\r\n",
        "    N = len(numbers)\r\n",
        "    mean = s / N\r\n",
        "\r\n",
        "    return mean\r\n",
        "\r\n",
        "# Find the Median\r\n",
        "def calculate_median(numbers):\r\n",
        "\r\n",
        "    N = len(numbers)\r\n",
        "    numbers.sort()\r\n",
        "\r\n",
        "    if N % 2 == 0:\r\n",
        "        # if N is even, convert to int and match position\r\n",
        "        m1 = int(N / 2) - 1\r\n",
        "        m2 = int((N / 2) + 1) - 1\r\n",
        "        median = (numbers[m1] + numbers[m2]) / 2\r\n",
        "    else:\r\n",
        "        # Convert to integer, match position\r\n",
        "        m = int((N + 1) / 2) - 1\r\n",
        "        median = numbers[m]\r\n",
        "\r\n",
        "    return median\r\n",
        "\r\n",
        "# Find the Mode \r\n",
        "\r\n",
        "def calculate_mode(numbers):\r\n",
        "    c = Counter(numbers)\r\n",
        "    numbers_freq = c.most_common()\r\n",
        "\r\n",
        "    max_count = numbers_freq[0][1]\r\n",
        "\r\n",
        "    modes = []\r\n",
        "    for num in numbers_freq:\r\n",
        "        if num[1] == max_count:\r\n",
        "            modes.append(num[0])\r\n",
        "\r\n",
        "    return modes\r\n",
        "\r\n",
        "  # Find the Variance\r\n",
        "\r\n",
        "def find_differences(numbers):\r\n",
        "    # Find the mean\r\n",
        "    mean = calculate_mean(numbers)\r\n",
        "    # Find the differences from the mean\r\n",
        "    diff = []\r\n",
        "    for num in numbers:\r\n",
        "        diff.append(num - mean)\r\n",
        "\r\n",
        "    return diff\r\n",
        "\r\n",
        "\r\n",
        "def calculate_variance(numbers):\r\n",
        "    # Find the list of differences\r\n",
        "    diff = find_differences(numbers)\r\n",
        "    # Find the squared differences\r\n",
        "    squared_diff = []\r\n",
        "\r\n",
        "    for d in diff:\r\n",
        "        squared_diff.append(d**2)\r\n",
        "    # Find the variance\r\n",
        "    sum_squared_diff = sum(squared_diff)\r\n",
        "\r\n",
        "    variance = sum_squared_diff / len(numbers)\r\n",
        "\r\n",
        "    return variance\r\n",
        "\r\n",
        "if __name__ == '__main__':\r\n",
        "    data = read_data()\r\n",
        "    mean = calculate_mean(data)\r\n",
        "    median = calculate_median(data)\r\n",
        "    mode = calculate_mode(data)\r\n",
        "    variance = calculate_variance(data)\r\n",
        "    std_ev = variance**0.5\r\n",
        "    print('Mean: {0}, Median {1}, Mode {2}'.format(mean, median, mode))\r\n",
        "    print('Variance: {0}, Standard Deviation: {1}'.format(variance, std_ev))\r\n"
      ],
      "execution_count": null,
      "outputs": [
        {
          "output_type": "stream",
          "text": [
            "Mean: 469.4166666666667, Median 451.5, Mode [100.0, 500.0]\n",
            "Variance: 141390.40972222222, Standard Deviation: 376.01916137641473\n"
          ],
          "name": "stdout"
        }
      ]
    },
    {
      "cell_type": "markdown",
      "metadata": {
        "id": "jefki9NcbQFG"
      },
      "source": [
        "Chapter 4.  Programming Challenge 4 page 117, Solving Single-Variable Inequalities"
      ]
    },
    {
      "cell_type": "code",
      "metadata": {
        "colab": {
          "base_uri": "https://localhost:8080/"
        },
        "id": "xIGdVmn7mz3Z",
        "outputId": "40e556ac-ac84-445e-fddc-26ba397781ad"
      },
      "source": [
        "from sympy import *\r\n",
        "\r\n",
        "# polynomial\r\n",
        "\r\n",
        "x = Symbol('x')\r\n",
        "ineq_obj = -x**2 + 4 < 0\r\n",
        "lhs = ineq_obj.lhs\r\n",
        "p = Poly(lhs, x)\r\n",
        "rel = ineq_obj.rel_op\r\n",
        "solve_poly_inequality(p,rel)\r\n",
        "\r\n"
      ],
      "execution_count": null,
      "outputs": [
        {
          "output_type": "execute_result",
          "data": {
            "text/plain": [
              "[Interval.open(-oo, -2), Interval.open(2, oo)]"
            ]
          },
          "metadata": {
            "tags": []
          },
          "execution_count": 25
        }
      ]
    },
    {
      "cell_type": "code",
      "metadata": {
        "colab": {
          "base_uri": "https://localhost:8080/"
        },
        "id": "lMGozVQ4wIdL",
        "outputId": "f1cb02dc-8d5a-4ecb-b7e5-5699d47a1ca1"
      },
      "source": [
        "#rational expression\r\n",
        "from sympy import *\r\n",
        "\r\n",
        "y = Symbol('y')\r\n",
        "ineq_obj = ((y-1)/(y-2)) > 0\r\n",
        "lhs = ineq_obj.lhs\r\n",
        "numer, denom = lhs.as_numer_denom()\r\n",
        "p1 = Poly(numer)\r\n",
        "p2 = Poly(denom)\r\n",
        "rel = ineq_obj.rel_op\r\n",
        "solve_rational_inequalities([[((p1,p2), rel)]])\r\n"
      ],
      "execution_count": null,
      "outputs": [
        {
          "output_type": "execute_result",
          "data": {
            "text/plain": [
              "Union(Interval.open(-oo, 1), Interval.open(2, oo))"
            ]
          },
          "metadata": {
            "tags": []
          },
          "execution_count": 23
        }
      ]
    },
    {
      "cell_type": "code",
      "metadata": {
        "id": "DktODldwB9sP"
      },
      "source": [
        ""
      ],
      "execution_count": null,
      "outputs": []
    }
  ]
}